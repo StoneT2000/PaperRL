{
 "cells": [
  {
   "cell_type": "code",
   "execution_count": 1,
   "id": "aeba07ac-9d89-4f4e-888f-f35221e673e0",
   "metadata": {},
   "outputs": [],
   "source": [
    "import walle_rl.agents.ppo\n",
    "from walle_rl.architecture.mlp import MLP\n",
    "import gym\n",
    "import flax.linen as nn\n",
    "from flax import struct\n",
    "from walle_rl.common.random import PRNGSequence\n",
    "from walle_rl.buffer.buffer import GenericBuffer\n",
    "import jax.numpy as jnp\n",
    "import numpy as np\n",
    "import jax\n",
    "from stable_baselines3.common.env_util import make_vec_env\n",
    "from walle_rl.architecture.model import Model\n",
    "import optax"
   ]
  },
  {
   "cell_type": "code",
   "execution_count": 16,
   "id": "bff39c71-d961-4868-9d04-3087bceb5429",
   "metadata": {},
   "outputs": [],
   "source": [
    "N=1_000\n",
    "jaxa = jnp.ones(10_000_000)\n",
    "npa=np.ones(10_000_000)\n",
    "@jax.jit\n",
    "def jit_arr(N):\n",
    "    return jnp.ones(10_000_000)\n",
    "@jax.jit\n",
    "def bench_jax_scan(a):\n",
    "    def f(i,x):\n",
    "        x = x.at[i].set(i)\n",
    "        return x\n",
    "    a = jax.lax.fori_loop(0,N,f,a)\n",
    "    return a\n",
    "@jax.jit\n",
    "def bench_jax(a, r):\n",
    "    def f(i,x):\n",
    "        x = x.at[i].set(x[i-1] * r)\n",
    "        return x\n",
    "    y = jax.lax.fori_loop(1,N,f,a)\n",
    "    return y\n",
    "\n",
    "@jax.jit\n",
    "def compute_scan(a, r):\n",
    "    def f(c,s):\n",
    "        res = c * r\n",
    "        return res, res\n",
    "    _,res = jax.lax.scan(f, a[0]/r, jnp.arange(N))\n",
    "    return res\n",
    "# def bench_jax_scan(a, r):\n",
    "#     a[:N] = compute_scan(jnp.array(a), r)\n",
    "#     return a"
   ]
  },
  {
   "cell_type": "code",
   "execution_count": 11,
   "id": "44b9c15a-adbf-438e-90f6-3e6c98a387cf",
   "metadata": {},
   "outputs": [],
   "source": [
    "jax_a_jit = jit_arr(N)"
   ]
  },
  {
   "cell_type": "code",
   "execution_count": 17,
   "id": "5d5713d0-a3e2-483b-956e-865234f6e08f",
   "metadata": {},
   "outputs": [
    {
     "name": "stdout",
     "output_type": "stream",
     "text": [
      "CPU times: user 39.7 ms, sys: 1.72 ms, total: 41.4 ms\n",
      "Wall time: 42.1 ms\n",
      "4.47 ms ± 43.3 µs per loop (mean ± std. dev. of 7 runs, 100 loops each)\n"
     ]
    }
   ],
   "source": [
    "%time bench_jax_scan(jax_a_jit)\n",
    "%timeit b=bench_jax_scan(jax_a_jit)"
   ]
  },
  {
   "cell_type": "code",
   "execution_count": 18,
   "id": "f2479287-e815-4a68-b3ea-3dd297a63353",
   "metadata": {},
   "outputs": [
    {
     "data": {
      "text/plain": [
       "DeviceArray([1., 1., 1., ..., 1., 1., 1.], dtype=float32)"
      ]
     },
     "execution_count": 18,
     "metadata": {},
     "output_type": "execute_result"
    }
   ],
   "source": [
    "jax_a_jit"
   ]
  },
  {
   "cell_type": "code",
   "execution_count": 82,
   "id": "53535946-6da1-4927-83d4-16442bd4cde4",
   "metadata": {},
   "outputs": [
    {
     "name": "stdout",
     "output_type": "stream",
     "text": [
      "CPU times: user 54.1 ms, sys: 1.24 ms, total: 55.3 ms\n",
      "Wall time: 53.7 ms\n",
      "8.58 ms ± 225 µs per loop (mean ± std. dev. of 7 runs, 100 loops each)\n"
     ]
    }
   ],
   "source": [
    "%time bench_jax_scan(npa,1.005)\n",
    "%timeit b=bench_jax_scan(npa,1.005)"
   ]
  },
  {
   "cell_type": "code",
   "execution_count": 62,
   "id": "a77732d8-1d33-4835-85d9-68ee3846b3d4",
   "metadata": {},
   "outputs": [
    {
     "data": {
      "text/plain": [
       "DeviceArray([1.      , 1.005   , 1.010025, ..., 1.      , 1.      ,\n",
       "             1.      ], dtype=float32)"
      ]
     },
     "execution_count": 62,
     "metadata": {},
     "output_type": "execute_result"
    }
   ],
   "source": [
    "bench_jax_scan(jaxa,1.005)"
   ]
  },
  {
   "cell_type": "code",
   "execution_count": 66,
   "id": "322add15-c6d1-4537-819f-224ff58c6d78",
   "metadata": {},
   "outputs": [],
   "source": [
    "buffer_cfg=dict(\n",
    "            act_buf = ((), np.int32),\n",
    "            adv_buf = ((), np.float32),\n",
    "            rew_buf = ((), np.float32),\n",
    "            ret_buf = ((), np.float32),\n",
    "            val_buf = ((), np.float32),\n",
    "            logp_buf = ((), np.float32),\n",
    "            done_buf = ((), np.bool8)\n",
    "        )\n",
    "buffer = GenericBuffer(\n",
    "    20000, n_envs=4, config=buffer_cfg\n",
    ")"
   ]
  },
  {
   "cell_type": "code",
   "execution_count": 158,
   "id": "9d1b28ef-7a7e-415c-9992-9be8505fa9e0",
   "metadata": {},
   "outputs": [],
   "source": [
    "from typing import Dict\n",
    "import chex\n",
    "from functools import partial\n",
    "Array=chex.Array\n",
    "@struct.dataclass\n",
    "class BufferJax:\n",
    "    buffers: Dict[str, Array]\n",
    "    ptr: int\n",
    "    buffer_size: int\n",
    "    batch_idx: int\n",
    "    @classmethod\n",
    "    def create(\n",
    "        cls,\n",
    "        buffer_size: int,\n",
    "        n_envs: int,\n",
    "        config,\n",
    "    ):\n",
    "        is_dict = dict()\n",
    "        buffers = dict()\n",
    "        for k in config.keys():\n",
    "            shape, dtype = config[k]\n",
    "            k_dict = False\n",
    "            if isinstance(shape, dict):\n",
    "                k_dict = True\n",
    "            is_dict[k] = k_dict\n",
    "            if k_dict:\n",
    "                buffers[k] = dict()\n",
    "                for part_key in shape.keys():\n",
    "                    buffers[k][part_key] = jnp.zeros((buffer_size, n_envs) + shape[part_key], dtype=dtype[part_key])\n",
    "            else:\n",
    "                buffers[k] = jnp.zeros((buffer_size, n_envs) + shape, dtype=dtype)\n",
    "        ptr, path_start_idx, max_size = 0, [0]*n_envs, buffer_size\n",
    "        return cls(\n",
    "            batch_idx=0,\n",
    "            buffers=buffers,\n",
    "            ptr=ptr,\n",
    "            buffer_size=buffer_size\n",
    "        )\n",
    "    \n",
    "    # @partial(jax.jit, static_argnames=['self'])\n",
    "    def store(self, **kwargs):\n",
    "        \"\"\"\n",
    "        store one timestep of agent-environment interaction to the buffer. If full, replaces the oldest entry\n",
    "        \"\"\"\n",
    "        buffers = self.buffers.copy()\n",
    "        # for k in self.buffers.keys():\n",
    "        #     if k in kwargs:\n",
    "        #         data = kwargs[k]\n",
    "        #         if isinstance(data, dict):\n",
    "        #             for data_k in data.keys():\n",
    "        #                 d = jnp.array(data[data_k])\n",
    "        #                 d = d.reshape(self.buffers[k][data_k][self.ptr].shape)\n",
    "        #                 buffers[k][data_k]=self.buffers[k][data_k].at[self.ptr].set(d)\n",
    "        #         else:\n",
    "        #             d = jnp.array(data)\n",
    "        #             d = d.reshape(self.buffers[k][self.ptr].shape)\n",
    "        #         buffers[k]=self.buffers[k].at[self.ptr].set(d)\n",
    "        # ptr = self.ptr + 1\n",
    "        # if ptr == self.buffer_size:\n",
    "        #     # wrap pointer around to start replacing items\n",
    "        #     self.full = True\n",
    "        #     self.ptr = 0\n",
    "        return self.replace(\n",
    "            buffers=buffers\n",
    "        )\n",
    "        "
   ]
  },
  {
   "cell_type": "code",
   "execution_count": 159,
   "id": "adb1086a-8f53-42b5-9b15-4d9c6c1053d5",
   "metadata": {},
   "outputs": [],
   "source": [
    "jaxbuf = BufferJax.create(20000, n_envs=4, config=buffer_cfg)"
   ]
  },
  {
   "cell_type": "code",
   "execution_count": 160,
   "id": "79721a1a-251b-4da8-bae7-a89ad5959f83",
   "metadata": {},
   "outputs": [
    {
     "data": {
      "text/plain": [
       "DeviceArray([[0, 0, 0, 0],\n",
       "             [0, 0, 0, 0],\n",
       "             [0, 0, 0, 0],\n",
       "             ...,\n",
       "             [0, 0, 0, 0],\n",
       "             [0, 0, 0, 0],\n",
       "             [0, 0, 0, 0]], dtype=int32)"
      ]
     },
     "execution_count": 160,
     "metadata": {},
     "output_type": "execute_result"
    }
   ],
   "source": [
    "jaxbuf.buffers['act_buf']"
   ]
  },
  {
   "cell_type": "code",
   "execution_count": 161,
   "id": "3833cfed-230f-4174-b24a-5d77f6ec10d0",
   "metadata": {},
   "outputs": [],
   "source": [
    "jaxbuf=jaxbuf.store(act_buf=jnp.ones(4, dtype=int))"
   ]
  },
  {
   "cell_type": "code",
   "execution_count": 162,
   "id": "801eb8eb-2945-4ea2-b519-a67ea96e7a35",
   "metadata": {},
   "outputs": [
    {
     "data": {
      "text/plain": [
       "DeviceArray([[0, 0, 0, 0],\n",
       "             [0, 0, 0, 0],\n",
       "             [0, 0, 0, 0],\n",
       "             ...,\n",
       "             [0, 0, 0, 0],\n",
       "             [0, 0, 0, 0],\n",
       "             [0, 0, 0, 0]], dtype=int32)"
      ]
     },
     "execution_count": 162,
     "metadata": {},
     "output_type": "execute_result"
    }
   ],
   "source": [
    "jaxbuf.buffers['act_buf']"
   ]
  },
  {
   "cell_type": "code",
   "execution_count": null,
   "id": "13a7eec0-136e-46f8-9261-aaabf7277aca",
   "metadata": {},
   "outputs": [],
   "source": []
  },
  {
   "cell_type": "code",
   "execution_count": null,
   "id": "cb797b74-2584-4562-8616-303f3d25dfb7",
   "metadata": {},
   "outputs": [],
   "source": []
  }
 ],
 "metadata": {
  "kernelspec": {
   "display_name": "Python 3 (ipykernel)",
   "language": "python",
   "name": "python3"
  },
  "language_info": {
   "codemirror_mode": {
    "name": "ipython",
    "version": 3
   },
   "file_extension": ".py",
   "mimetype": "text/x-python",
   "name": "python",
   "nbconvert_exporter": "python",
   "pygments_lexer": "ipython3",
   "version": "3.8.13"
  }
 },
 "nbformat": 4,
 "nbformat_minor": 5
}
