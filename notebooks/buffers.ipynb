{
 "cells": [
  {
   "cell_type": "code",
   "execution_count": 43,
   "id": "aeba07ac-9d89-4f4e-888f-f35221e673e0",
   "metadata": {},
   "outputs": [],
   "source": [
    "import walle_rl.agents.ppo\n",
    "from walle_rl.architecture.mlp import MLP\n",
    "import gym\n",
    "import flax.linen as nn\n",
    "from flax import struct\n",
    "from walle_rl.common.random import PRNGSequence\n",
    "from walle_rl.buffer.buffer import GenericBuffer\n",
    "import jax.numpy as jnp\n",
    "import numpy as np\n",
    "import jax\n",
    "from stable_baselines3.common.env_util import make_vec_env\n",
    "from walle_rl.architecture.model import Model\n",
    "import optax"
   ]
  },
  {
   "cell_type": "code",
   "execution_count": 66,
   "id": "322add15-c6d1-4537-819f-224ff58c6d78",
   "metadata": {},
   "outputs": [],
   "source": [
    "buffer_cfg=dict(\n",
    "            act_buf = ((), np.int32),\n",
    "            adv_buf = ((), np.float32),\n",
    "            rew_buf = ((), np.float32),\n",
    "            ret_buf = ((), np.float32),\n",
    "            val_buf = ((), np.float32),\n",
    "            logp_buf = ((), np.float32),\n",
    "            done_buf = ((), np.bool8)\n",
    "        )\n",
    "buffer = GenericBuffer(\n",
    "    20000, n_envs=4, config=buffer_cfg\n",
    ")"
   ]
  },
  {
   "cell_type": "code",
   "execution_count": 158,
   "id": "9d1b28ef-7a7e-415c-9992-9be8505fa9e0",
   "metadata": {},
   "outputs": [],
   "source": [
    "from typing import Dict\n",
    "import chex\n",
    "from functools import partial\n",
    "Array=chex.Array\n",
    "@struct.dataclass\n",
    "class BufferJax:\n",
    "    buffers: Dict[str, Array]\n",
    "    ptr: int\n",
    "    buffer_size: int\n",
    "    batch_idx: int\n",
    "    @classmethod\n",
    "    def create(\n",
    "        cls,\n",
    "        buffer_size: int,\n",
    "        n_envs: int,\n",
    "        config,\n",
    "    ):\n",
    "        is_dict = dict()\n",
    "        buffers = dict()\n",
    "        for k in config.keys():\n",
    "            shape, dtype = config[k]\n",
    "            k_dict = False\n",
    "            if isinstance(shape, dict):\n",
    "                k_dict = True\n",
    "            is_dict[k] = k_dict\n",
    "            if k_dict:\n",
    "                buffers[k] = dict()\n",
    "                for part_key in shape.keys():\n",
    "                    buffers[k][part_key] = jnp.zeros((buffer_size, n_envs) + shape[part_key], dtype=dtype[part_key])\n",
    "            else:\n",
    "                buffers[k] = jnp.zeros((buffer_size, n_envs) + shape, dtype=dtype)\n",
    "        ptr, path_start_idx, max_size = 0, [0]*n_envs, buffer_size\n",
    "        return cls(\n",
    "            batch_idx=0,\n",
    "            buffers=buffers,\n",
    "            ptr=ptr,\n",
    "            buffer_size=buffer_size\n",
    "        )\n",
    "    \n",
    "    # @partial(jax.jit, static_argnames=['self'])\n",
    "    def store(self, **kwargs):\n",
    "        \"\"\"\n",
    "        store one timestep of agent-environment interaction to the buffer. If full, replaces the oldest entry\n",
    "        \"\"\"\n",
    "        buffers = self.buffers.copy()\n",
    "        # for k in self.buffers.keys():\n",
    "        #     if k in kwargs:\n",
    "        #         data = kwargs[k]\n",
    "        #         if isinstance(data, dict):\n",
    "        #             for data_k in data.keys():\n",
    "        #                 d = jnp.array(data[data_k])\n",
    "        #                 d = d.reshape(self.buffers[k][data_k][self.ptr].shape)\n",
    "        #                 buffers[k][data_k]=self.buffers[k][data_k].at[self.ptr].set(d)\n",
    "        #         else:\n",
    "        #             d = jnp.array(data)\n",
    "        #             d = d.reshape(self.buffers[k][self.ptr].shape)\n",
    "        #         buffers[k]=self.buffers[k].at[self.ptr].set(d)\n",
    "        # ptr = self.ptr + 1\n",
    "        # if ptr == self.buffer_size:\n",
    "        #     # wrap pointer around to start replacing items\n",
    "        #     self.full = True\n",
    "        #     self.ptr = 0\n",
    "        return self.replace(\n",
    "            buffers=buffers\n",
    "        )\n",
    "        "
   ]
  },
  {
   "cell_type": "code",
   "execution_count": 159,
   "id": "adb1086a-8f53-42b5-9b15-4d9c6c1053d5",
   "metadata": {},
   "outputs": [],
   "source": [
    "jaxbuf = BufferJax.create(20000, n_envs=4, config=buffer_cfg)"
   ]
  },
  {
   "cell_type": "code",
   "execution_count": 160,
   "id": "79721a1a-251b-4da8-bae7-a89ad5959f83",
   "metadata": {},
   "outputs": [
    {
     "data": {
      "text/plain": [
       "DeviceArray([[0, 0, 0, 0],\n",
       "             [0, 0, 0, 0],\n",
       "             [0, 0, 0, 0],\n",
       "             ...,\n",
       "             [0, 0, 0, 0],\n",
       "             [0, 0, 0, 0],\n",
       "             [0, 0, 0, 0]], dtype=int32)"
      ]
     },
     "execution_count": 160,
     "metadata": {},
     "output_type": "execute_result"
    }
   ],
   "source": [
    "jaxbuf.buffers['act_buf']"
   ]
  },
  {
   "cell_type": "code",
   "execution_count": 161,
   "id": "3833cfed-230f-4174-b24a-5d77f6ec10d0",
   "metadata": {},
   "outputs": [],
   "source": [
    "jaxbuf=jaxbuf.store(act_buf=jnp.ones(4, dtype=int))"
   ]
  },
  {
   "cell_type": "code",
   "execution_count": 162,
   "id": "801eb8eb-2945-4ea2-b519-a67ea96e7a35",
   "metadata": {},
   "outputs": [
    {
     "data": {
      "text/plain": [
       "DeviceArray([[0, 0, 0, 0],\n",
       "             [0, 0, 0, 0],\n",
       "             [0, 0, 0, 0],\n",
       "             ...,\n",
       "             [0, 0, 0, 0],\n",
       "             [0, 0, 0, 0],\n",
       "             [0, 0, 0, 0]], dtype=int32)"
      ]
     },
     "execution_count": 162,
     "metadata": {},
     "output_type": "execute_result"
    }
   ],
   "source": [
    "jaxbuf.buffers['act_buf']"
   ]
  },
  {
   "cell_type": "code",
   "execution_count": null,
   "id": "13a7eec0-136e-46f8-9261-aaabf7277aca",
   "metadata": {},
   "outputs": [],
   "source": []
  },
  {
   "cell_type": "code",
   "execution_count": null,
   "id": "cb797b74-2584-4562-8616-303f3d25dfb7",
   "metadata": {},
   "outputs": [],
   "source": []
  }
 ],
 "metadata": {
  "kernelspec": {
   "display_name": "Python 3 (ipykernel)",
   "language": "python",
   "name": "python3"
  },
  "language_info": {
   "codemirror_mode": {
    "name": "ipython",
    "version": 3
   },
   "file_extension": ".py",
   "mimetype": "text/x-python",
   "name": "python",
   "nbconvert_exporter": "python",
   "pygments_lexer": "ipython3",
   "version": "3.8.13"
  }
 },
 "nbformat": 4,
 "nbformat_minor": 5
}
