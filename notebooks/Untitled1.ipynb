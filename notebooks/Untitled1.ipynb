{
 "cells": [
  {
   "cell_type": "code",
   "execution_count": 1,
   "id": "c848e10d-74d5-48b6-b3cb-773c296bfdcb",
   "metadata": {},
   "outputs": [],
   "source": [
    "import walle_rl.agents.ppo\n",
    "from walle_rl.architecture.mlp import MLP\n",
    "import gym\n",
    "import flax.linen as nn\n",
    "from walle_rl.common.random import PRNGSequence\n",
    "import jax.numpy as jnp\n",
    "import jax\n",
    "from stable_baselines3.common.env_util import make_vec_env\n",
    "from walle_rl.architecture.model import Model\n",
    "import optax"
   ]
  },
  {
   "cell_type": "code",
   "execution_count": 22,
   "id": "63778e1f-bb77-4f3c-8140-c631699c229a",
   "metadata": {},
   "outputs": [
    {
     "data": {
      "text/plain": [
       "array([-0.00799411, -0.04250696, -0.04381343,  0.0163165 ], dtype=float32)"
      ]
     },
     "execution_count": 22,
     "metadata": {},
     "output_type": "execute_result"
    }
   ],
   "source": [
    "env = gym.make(\"CartPole-v1\")\n",
    "env.reset()"
   ]
  },
  {
   "cell_type": "code",
   "execution_count": 46,
   "id": "30290b7c-18b5-4d69-bf4a-c6ba678dcca7",
   "metadata": {},
   "outputs": [],
   "source": [
    "def step_fn(a):\n",
    "    # print(a)\n",
    "    # a = env.action_space.sample()\n",
    "    # env.step(a)\n",
    "    return a + 2"
   ]
  },
  {
   "cell_type": "code",
   "execution_count": 73,
   "id": "60f9d8d6-a196-43c1-a700-13ed65f169a3",
   "metadata": {},
   "outputs": [],
   "source": [
    "step_fn_vmap = jax.vmap(step_fn, (0,), 0)"
   ]
  },
  {
   "cell_type": "code",
   "execution_count": 74,
   "id": "454a393b-4a96-4122-a0d5-7ede97e348b8",
   "metadata": {},
   "outputs": [
    {
     "data": {
      "text/plain": [
       "0"
      ]
     },
     "execution_count": 74,
     "metadata": {},
     "output_type": "execute_result"
    }
   ],
   "source": [
    "env.action_space.sample()"
   ]
  },
  {
   "cell_type": "code",
   "execution_count": 75,
   "id": "fd85702d-0cfc-4994-81af-e4a9cc207cdd",
   "metadata": {},
   "outputs": [
    {
     "data": {
      "text/plain": [
       "(2, 1)"
      ]
     },
     "execution_count": 75,
     "metadata": {},
     "output_type": "execute_result"
    }
   ],
   "source": [
    "step_fn_vmap(jnp.array([1,0],dtype=int).reshape(-1,1)).shape"
   ]
  },
  {
   "cell_type": "code",
   "execution_count": 76,
   "id": "71f66990-41a1-4ef6-a2b7-6c883440825c",
   "metadata": {},
   "outputs": [
    {
     "data": {
      "text/plain": [
       "(2, 1)"
      ]
     },
     "execution_count": 76,
     "metadata": {},
     "output_type": "execute_result"
    }
   ],
   "source": [
    "jnp.array([1,0],dtype=int).reshape(-1,1).shape"
   ]
  },
  {
   "cell_type": "code",
   "execution_count": null,
   "id": "3a58ca85-2330-44f3-a8fa-d823c74ae1c0",
   "metadata": {},
   "outputs": [],
   "source": []
  }
 ],
 "metadata": {
  "kernelspec": {
   "display_name": "Python 3 (ipykernel)",
   "language": "python",
   "name": "python3"
  },
  "language_info": {
   "codemirror_mode": {
    "name": "ipython",
    "version": 3
   },
   "file_extension": ".py",
   "mimetype": "text/x-python",
   "name": "python",
   "nbconvert_exporter": "python",
   "pygments_lexer": "ipython3",
   "version": "3.8.13"
  }
 },
 "nbformat": 4,
 "nbformat_minor": 5
}
