{
 "cells": [
  {
   "cell_type": "code",
   "execution_count": 4,
   "id": "836911fd-f59b-4fb1-a3de-4593324ec470",
   "metadata": {},
   "outputs": [],
   "source": [
    "from paper_rl.modelfree.ppo import buffer\n",
    "from gym import spaces\n",
    "import numpy as np\n",
    "import torch\n",
    "from torch.distributions.categorical import Categorical\n",
    "obs_space=spaces.Dict(obs=spaces.Discrete(3), other=spaces.Box(-np.inf,np.inf,shape=(4,4)))"
   ]
  },
  {
   "cell_type": "code",
   "execution_count": 10,
   "id": "4228a91a-652a-4e3a-972e-3284a1f16498",
   "metadata": {},
   "outputs": [
    {
     "data": {
      "text/plain": [
       "tensor([[-0.3133, -0.3133]])"
      ]
     },
     "execution_count": 10,
     "metadata": {},
     "output_type": "execute_result"
    }
   ],
   "source": [
    "Categorical(logits=torch.tensor([[1,2],[2,3]])).log_prob(torch.tensor([[1]]))"
   ]
  },
  {
   "cell_type": "code",
   "execution_count": 2,
   "id": "7b6a93dc-02d6-433d-82f0-603f1a037821",
   "metadata": {},
   "outputs": [
    {
     "name": "stdout",
     "output_type": "stream",
     "text": [
      "Automatic pdb calling has been turned ON\n"
     ]
    }
   ],
   "source": [
    "%pdb\n",
    "buf = buffer.PPOBuffer(\n",
    "    buffer_size=10,\n",
    "    n_envs=4,\n",
    "    observation_space=spaces.Dict(obs=spaces.Discrete(3), other=spaces.Box(-np.inf,np.inf,shape=(4,4))),\n",
    "    action_space=spaces.Box(-np.inf,np.inf,shape=(4,))\n",
    ")\n",
    "buf.store(obs_buf=dict(obs=np.ones(4),other=np.zeros((4, 4,4))))\n",
    "buf.store(obs_buf=dict(obs=np.ones(4)*2,other=np.zeros((4, 4,4))+1))"
   ]
  },
  {
   "cell_type": "code",
   "execution_count": 8,
   "id": "e5768037-eea4-4d34-8565-fe8cd83c93df",
   "metadata": {},
   "outputs": [
    {
     "data": {
      "text/plain": [
       "{'act_buf': tensor([[0., 0., 0., 0.]]),\n",
       " 'adv_buf': tensor([0.]),\n",
       " 'rew_buf': tensor([0.]),\n",
       " 'ret_buf': tensor([0.]),\n",
       " 'val_buf': tensor([0.]),\n",
       " 'logp_buf': tensor([0.]),\n",
       " 'obs_buf': {'obs': tensor([[2]]),\n",
       "  'other': tensor([[[1., 1., 1., 1.],\n",
       "           [1., 1., 1., 1.],\n",
       "           [1., 1., 1., 1.],\n",
       "           [1., 1., 1., 1.]]])}}"
      ]
     },
     "execution_count": 8,
     "metadata": {},
     "output_type": "execute_result"
    }
   ],
   "source": [
    "buf.sample_batch(1)"
   ]
  },
  {
   "cell_type": "code",
   "execution_count": 5,
   "id": "dfe09103-62ee-406d-b801-8eed79c11271",
   "metadata": {},
   "outputs": [
    {
     "data": {
      "text/plain": [
       "{'act_buf': ((4,), dtype('float32')),\n",
       " 'adv_buf': ((), numpy.float32),\n",
       " 'rew_buf': ((), numpy.float32),\n",
       " 'ret_buf': ((), numpy.float32),\n",
       " 'val_buf': ((), numpy.float32),\n",
       " 'logp_buf': ((), numpy.float32),\n",
       " 'obs_buf': ({'obs': (1,), 'other': (4, 4)},\n",
       "  {'obs': dtype('int64'), 'other': dtype('float32')})}"
      ]
     },
     "execution_count": 5,
     "metadata": {},
     "output_type": "execute_result"
    }
   ],
   "source": [
    "buf.config"
   ]
  },
  {
   "cell_type": "code",
   "execution_count": 12,
   "id": "4302bc7c-1cc1-432e-b5c3-13907cee6473",
   "metadata": {},
   "outputs": [
    {
     "data": {
      "text/plain": [
       "(4, 1)"
      ]
     },
     "execution_count": 12,
     "metadata": {},
     "output_type": "execute_result"
    }
   ],
   "source": [
    "buf.buffers[\"obs_buf\"][\"obs\"][0].shape"
   ]
  },
  {
   "cell_type": "code",
   "execution_count": null,
   "id": "33570b64-52b2-47b9-9be6-831b479420c2",
   "metadata": {},
   "outputs": [],
   "source": []
  }
 ],
 "metadata": {
  "kernelspec": {
   "display_name": "Python 3 (ipykernel)",
   "language": "python",
   "name": "python3"
  },
  "language_info": {
   "codemirror_mode": {
    "name": "ipython",
    "version": 3
   },
   "file_extension": ".py",
   "mimetype": "text/x-python",
   "name": "python",
   "nbconvert_exporter": "python",
   "pygments_lexer": "ipython3",
   "version": "3.8.12"
  }
 },
 "nbformat": 4,
 "nbformat_minor": 5
}
