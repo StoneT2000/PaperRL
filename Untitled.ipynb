{
 "cells": [
  {
   "cell_type": "code",
   "execution_count": 1,
   "id": "fbb5b076-ed8b-48a7-a8c5-a3ccf8081d70",
   "metadata": {
    "tags": []
   },
   "outputs": [
    {
     "name": "stdout",
     "output_type": "stream",
     "text": [
      "Jupyter environment detected. Enabling Open3D WebVisualizer.\n",
      "[Open3D INFO] WebRTC GUI backend enabled.\n",
      "[Open3D INFO] WebRTCWindowSystem: HTTP handshake server disabled.\n"
     ]
    }
   ],
   "source": [
    "from robojax.vision.transforms3d.quaternions import *\n",
    "import numpy as np\n",
    "from functools import partial\n",
    "import jax.numpy as jnp\n",
    "import jax\n",
    "from chex import Array\n",
    "import matplotlib.pyplot as plt\n",
    "import pickle\n",
    "import transforms3d\n",
    "import open3d as o3d\n",
    "import trimesh\n",
    "from robojax.vision.pcd import depth_to_pcd, transform_pcd"
   ]
  },
  {
   "cell_type": "code",
   "execution_count": 2,
   "id": "d5095fe0-c6d2-439f-9b8b-a27da3e24717",
   "metadata": {},
   "outputs": [
    {
     "name": "stdout",
     "output_type": "stream",
     "text": [
      "action\tcolor  depth  info  reward\n"
     ]
    }
   ],
   "source": [
    "!ls ../external/ravens/block-insertion-train/"
   ]
  },
  {
   "cell_type": "code",
   "execution_count": 3,
   "id": "a1d288cb-7707-4456-80ed-c24e75765002",
   "metadata": {},
   "outputs": [],
   "source": [
    "with open(\"../external/ravens/block-insertion-train/depth/000000-0.pkl\", \"rb\") as f:\n",
    "    depth = pickle.load(f)\n",
    "with open(\"../external/ravens/block-insertion-train/info/000000-0.pkl\", \"rb\") as f:\n",
    "    info = pickle.load(f)"
   ]
  },
  {
   "cell_type": "code",
   "execution_count": 4,
   "id": "6c12133e-2f5d-400c-b6bc-64a458291bc6",
   "metadata": {},
   "outputs": [],
   "source": [
    "intrinsics = np.array([450., 0, 320., 0, 450., 240., 0, 0, 1]).reshape(3, 3)"
   ]
  },
  {
   "cell_type": "code",
   "execution_count": 5,
   "id": "feaa4274-0293-4ae8-a380-5f51e2c4779b",
   "metadata": {},
   "outputs": [
    {
     "data": {
      "text/plain": [
       "<matplotlib.image.AxesImage at 0x7f66d417f2b0>"
      ]
     },
     "execution_count": 5,
     "metadata": {},
     "output_type": "execute_result"
    },
    {
     "data": {
      "image/png": "[encoded data removed]",
      "text/plain": [
       "<Figure size 640x480 with 1 Axes>"
      ]
     },
     "metadata": {},
     "output_type": "display_data"
    }
   ],
   "source": [
    "plt.imshow(depth[0][2])"
   ]
  },
  {
   "cell_type": "code",
   "execution_count": 6,
   "id": "c3252a98-f298-4806-b26c-e9829abe5d77",
   "metadata": {},
   "outputs": [
    {
     "data": {
      "text/plain": [
       "(480, 640, 3)"
      ]
     },
     "execution_count": 6,
     "metadata": {},
     "output_type": "execute_result"
    }
   ],
   "source": [
    "pcd_pts=depth_to_pcd(depth[0][2], intrinsics)\n",
    "pcd_pts=np.asarray(pcd_pts)\n",
    "pcd_pts.shape"
   ]
  },
  {
   "cell_type": "code",
   "execution_count": 7,
   "id": "7ffec4c9-4611-472c-95f2-da7b799ff6f3",
   "metadata": {},
   "outputs": [
    {
     "data": {
      "text/plain": [
       "(1000, 3)"
      ]
     },
     "execution_count": 7,
     "metadata": {},
     "output_type": "execute_result"
    }
   ],
   "source": [
    "points = (np.random.rand(1000, 3) - 0.5) / 4\n",
    "points.shape"
   ]
  },
  {
   "cell_type": "code",
   "execution_count": 8,
   "id": "ab4cda23-fec1-456b-8553-176d03941dcc",
   "metadata": {},
   "outputs": [
    {
     "ename": "TypeError",
     "evalue": "'<class 'jax.interpreters.partial_eval.DynamicJaxprTracer'>' object does not support item assignment. JAX arrays are immutable. Instead of ``x[idx] = y``, use ``x = x.at[idx].set(y)`` or another .at[] method: https://jax.readthedocs.io/en/latest/_autosummary/jax.numpy.ndarray.at.html",
     "output_type": "error",
     "traceback": [
      "\u001b[0;31m---------------------------------------------------------------------------\u001b[0m",
      "\u001b[0;31mTypeError\u001b[0m                                 Traceback (most recent call last)",
      "Cell \u001b[0;32mIn [8], line 1\u001b[0m\n\u001b[0;32m----> 1\u001b[0m \u001b[43mtransform_pcd\u001b[49m\u001b[43m(\u001b[49m\u001b[43mpcd_pts\u001b[49m\u001b[43m,\u001b[49m\u001b[43m \u001b[49m\u001b[43mnp\u001b[49m\u001b[38;5;241;43m.\u001b[39;49m\u001b[43meye\u001b[49m\u001b[43m(\u001b[49m\u001b[38;5;241;43m4\u001b[39;49m\u001b[43m)\u001b[49m\u001b[43m)\u001b[49m\n",
      "    \u001b[0;31m[... skipping hidden 14 frame]\u001b[0m\n",
      "File \u001b[0;32m~/work/robojax/robojax/vision/pcd.py:58\u001b[0m, in \u001b[0;36mtransform_pcd\u001b[0;34m(pcd, mat)\u001b[0m\n\u001b[1;32m     56\u001b[0m \u001b[38;5;28;01mdef\u001b[39;00m \u001b[38;5;21m_transform_unstructured_pcd\u001b[39m(pcd):\n\u001b[1;32m     57\u001b[0m     \u001b[38;5;28;01mreturn\u001b[39;00m pcd \u001b[38;5;241m@\u001b[39m mat[:\u001b[38;5;241m3\u001b[39m, :\u001b[38;5;241m3\u001b[39m]\u001b[38;5;241m.\u001b[39mT \u001b[38;5;241m+\u001b[39m mat[:\u001b[38;5;241m3\u001b[39m, \u001b[38;5;241m3\u001b[39m]\n\u001b[0;32m---> 58\u001b[0m \u001b[38;5;28;01mreturn\u001b[39;00m \u001b[43mjax\u001b[49m\u001b[38;5;241;43m.\u001b[39;49m\u001b[43mlax\u001b[49m\u001b[38;5;241;43m.\u001b[39;49m\u001b[43mcond\u001b[49m\u001b[43m(\u001b[49m\u001b[43mpcd_is_structured\u001b[49m\u001b[43m,\u001b[49m\u001b[43m \u001b[49m\u001b[43m_transform_structured_pcd\u001b[49m\u001b[43m,\u001b[49m\u001b[43m \u001b[49m\u001b[43m_transform_unstructured_pcd\u001b[49m\u001b[43m,\u001b[49m\u001b[43m \u001b[49m\u001b[43mpcd\u001b[49m\u001b[43m)\u001b[49m\n",
      "    \u001b[0;31m[... skipping hidden 14 frame]\u001b[0m\n",
      "File \u001b[0;32m~/work/robojax/robojax/vision/pcd.py:54\u001b[0m, in \u001b[0;36mtransform_pcd.<locals>._transform_structured_pcd\u001b[0;34m(pcd)\u001b[0m\n\u001b[1;32m     51\u001b[0m homogen_points \u001b[38;5;241m=\u001b[39m jnp\u001b[38;5;241m.\u001b[39mpad(pcd, padding,\n\u001b[1;32m     52\u001b[0m                         \u001b[38;5;124m'\u001b[39m\u001b[38;5;124mconstant\u001b[39m\u001b[38;5;124m'\u001b[39m, constant_values\u001b[38;5;241m=\u001b[39m\u001b[38;5;241m1\u001b[39m)\n\u001b[1;32m     53\u001b[0m \u001b[38;5;28;01mfor\u001b[39;00m i \u001b[38;5;129;01min\u001b[39;00m \u001b[38;5;28mrange\u001b[39m(\u001b[38;5;241m3\u001b[39m):\n\u001b[0;32m---> 54\u001b[0m     \u001b[43mpcd\u001b[49m\u001b[43m[\u001b[49m\u001b[38;5;28;43mEllipsis\u001b[39;49m\u001b[43m,\u001b[49m\u001b[43m \u001b[49m\u001b[43mi\u001b[49m\u001b[43m]\u001b[49m \u001b[38;5;241m=\u001b[39m jnp\u001b[38;5;241m.\u001b[39msum(mat[i, :] \u001b[38;5;241m*\u001b[39m homogen_points, axis\u001b[38;5;241m=\u001b[39m\u001b[38;5;241m-\u001b[39m\u001b[38;5;241m1\u001b[39m)\n\u001b[1;32m     55\u001b[0m \u001b[38;5;28;01mreturn\u001b[39;00m pcd\n",
      "    \u001b[0;31m[... skipping hidden 1 frame]\u001b[0m\n",
      "File \u001b[0;32m~/miniconda3/envs/robojax_exp/lib/python3.8/site-packages/jax/_src/numpy/lax_numpy.py:4670\u001b[0m, in \u001b[0;36m_unimplemented_setitem\u001b[0;34m(self, i, x)\u001b[0m\n\u001b[1;32m   4665\u001b[0m \u001b[38;5;28;01mdef\u001b[39;00m \u001b[38;5;21m_unimplemented_setitem\u001b[39m(\u001b[38;5;28mself\u001b[39m, i, x):\n\u001b[1;32m   4666\u001b[0m   msg \u001b[38;5;241m=\u001b[39m (\u001b[38;5;124m\"\u001b[39m\u001b[38;5;124m'\u001b[39m\u001b[38;5;132;01m{}\u001b[39;00m\u001b[38;5;124m'\u001b[39m\u001b[38;5;124m object does not support item assignment. JAX arrays are \u001b[39m\u001b[38;5;124m\"\u001b[39m\n\u001b[1;32m   4667\u001b[0m          \u001b[38;5;124m\"\u001b[39m\u001b[38;5;124mimmutable. Instead of ``x[idx] = y``, use ``x = x.at[idx].set(y)`` \u001b[39m\u001b[38;5;124m\"\u001b[39m\n\u001b[1;32m   4668\u001b[0m          \u001b[38;5;124m\"\u001b[39m\u001b[38;5;124mor another .at[] method: \u001b[39m\u001b[38;5;124m\"\u001b[39m\n\u001b[1;32m   4669\u001b[0m          \u001b[38;5;124m\"\u001b[39m\u001b[38;5;124mhttps://jax.readthedocs.io/en/latest/_autosummary/jax.numpy.ndarray.at.html\u001b[39m\u001b[38;5;124m\"\u001b[39m)\n\u001b[0;32m-> 4670\u001b[0m   \u001b[38;5;28;01mraise\u001b[39;00m \u001b[38;5;167;01mTypeError\u001b[39;00m(msg\u001b[38;5;241m.\u001b[39mformat(\u001b[38;5;28mtype\u001b[39m(\u001b[38;5;28mself\u001b[39m)))\n",
      "\u001b[0;31mTypeError\u001b[0m: '<class 'jax.interpreters.partial_eval.DynamicJaxprTracer'>' object does not support item assignment. JAX arrays are immutable. Instead of ``x[idx] = y``, use ``x = x.at[idx].set(y)`` or another .at[] method: https://jax.readthedocs.io/en/latest/_autosummary/jax.numpy.ndarray.at.html"
     ]
    }
   ],
   "source": [
    "transform_pcd(pcd_pts, np.eye(4))"
   ]
  },
  {
   "cell_type": "code",
   "execution_count": 21,
   "id": "e2c025f4-1f1b-487b-b83e-5ad7681abef8",
   "metadata": {},
   "outputs": [
    {
     "ename": "AttributeError",
     "evalue": "'open3d.cuda.pybind.visualization.Visualizer' object has no attribute 'show'",
     "output_type": "error",
     "traceback": [
      "\u001b[0;31m---------------------------------------------------------------------------\u001b[0m",
      "\u001b[0;31mAttributeError\u001b[0m                            Traceback (most recent call last)",
      "Cell \u001b[0;32mIn [21], line 9\u001b[0m\n\u001b[1;32m      7\u001b[0m visualizer \u001b[38;5;241m=\u001b[39m o3d\u001b[38;5;241m.\u001b[39mvisualization\u001b[38;5;241m.\u001b[39mVisualizer()\n\u001b[1;32m      8\u001b[0m visualizer\u001b[38;5;241m.\u001b[39madd_geometry(pcd)\n\u001b[0;32m----> 9\u001b[0m \u001b[43mvisualizer\u001b[49m\u001b[38;5;241;43m.\u001b[39;49m\u001b[43mshow\u001b[49m()\n",
      "\u001b[0;31mAttributeError\u001b[0m: 'open3d.cuda.pybind.visualization.Visualizer' object has no attribute 'show'"
     ]
    }
   ],
   "source": [
    "# from open3d.j import JVisualizer\n",
    "\n",
    "pcd = o3d.geometry.PointCloud()\n",
    "pcd.points = o3d.utility.Vector3dVector(pcd_pts.reshape(-1,3))\n",
    "# pcd.colors = o3d.utility.Vector3dVector(colors)\n",
    "\n",
    "visualizer = o3d.visualization.V()\n",
    "visualizer.add_geometry(pcd)\n",
    "visualizer."
   ]
  },
  {
   "cell_type": "code",
   "execution_count": 36,
   "id": "4dcaf053-6d58-48b5-a110-764c333f616f",
   "metadata": {},
   "outputs": [],
   "source": [
    "o3d.visualization.draw_geometries([pcd],\n",
    "                                  zoom=0.3412,\n",
    "                                  front=[1, -0.5, -0.5],\n",
    "                                  lookat=[0,0,0],\n",
    "                                  up=[-1, -1, 0])"
   ]
  },
  {
   "cell_type": "code",
   "execution_count": null,
   "id": "3f30748d-742e-4e69-bf31-767aa231a147",
   "metadata": {},
   "outputs": [],
   "source": []
  }
 ],
 "metadata": {
  "kernelspec": {
   "display_name": "Python 3 (ipykernel)",
   "language": "python",
   "name": "python3"
  },
  "language_info": {
   "codemirror_mode": {
    "name": "ipython",
    "version": 3
   },
   "file_extension": ".py",
   "mimetype": "text/x-python",
   "name": "python",
   "nbconvert_exporter": "python",
   "pygments_lexer": "ipython3",
   "version": "3.8.13"
  }
 },
 "nbformat": 4,
 "nbformat_minor": 5
}
